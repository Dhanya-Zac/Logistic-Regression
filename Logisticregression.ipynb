{
  "nbformat": 4,
  "nbformat_minor": 0,
  "metadata": {
    "colab": {
      "provenance": [],
      "authorship_tag": "ABX9TyO47SeAzuyDxeEimUwFZgLc",
      "include_colab_link": true
    },
    "kernelspec": {
      "name": "python3",
      "display_name": "Python 3"
    },
    "language_info": {
      "name": "python"
    }
  },
  "cells": [
    {
      "cell_type": "markdown",
      "metadata": {
        "id": "view-in-github",
        "colab_type": "text"
      },
      "source": [
        "<a href=\"https://colab.research.google.com/github/Dhanya-Zac/Logistic-Regression/blob/main/Logisticregression.ipynb\" target=\"_parent\"><img src=\"https://colab.research.google.com/assets/colab-badge.svg\" alt=\"Open In Colab\"/></a>"
      ]
    },
    {
      "cell_type": "markdown",
      "source": [
        "# **Logistic Regression of Iris Dataset**"
      ],
      "metadata": {
        "id": "BFwg-I4Z2pEm"
      }
    },
    {
      "cell_type": "markdown",
      "source": [
        "**For what type of data we use logistic regression for ?**\n",
        "\n",
        "\n",
        "Logistic regression is commonly used for binary classification tasks, where the target variable has two possible outcomes or classes. That is the answer we want to know is  \n",
        "\n",
        "*  a yes or no,\n",
        "*  predicting whether a patient has a disease or not,\n",
        "*  whether a customer will respond positively to a marketing campaign or not,\n",
        "*  identifying fraud transactions etc.\n",
        "\n",
        "\n",
        "\n"
      ],
      "metadata": {
        "id": "KdL_GbNP3bxx"
      }
    },
    {
      "cell_type": "code",
      "execution_count": null,
      "metadata": {
        "id": "ykSGyRB_xFcs"
      },
      "outputs": [],
      "source": [
        "#Scikit-learn library provides a wide range of machine learning algorithms and  tools\n",
        "from sklearn.linear_model import LogisticRegression"
      ]
    },
    {
      "cell_type": "markdown",
      "source": [
        "**What are we doing here ?**\n",
        "\n",
        "Predicting the species of an iris flower based on its sepal length and width(input features X)."
      ],
      "metadata": {
        "id": "ds4Fv7R95M0L"
      }
    },
    {
      "cell_type": "code",
      "source": [
        "#Import accuracy_score :used to evaluate the performance of the model.\n",
        "from sklearn.metrics import accuracy_score"
      ],
      "metadata": {
        "id": "5RJyn99cxO--"
      },
      "execution_count": null,
      "outputs": []
    },
    {
      "cell_type": "code",
      "source": [
        "#Import numpy: library for numerical computing\n",
        "import numpy as np"
      ],
      "metadata": {
        "id": "YfKR0gy9xU6Z"
      },
      "execution_count": null,
      "outputs": []
    },
    {
      "cell_type": "code",
      "source": [
        "#Import pyplot from matplotlib : for creating visualizations\n",
        "import matplotlib.pyplot as plt"
      ],
      "metadata": {
        "id": "MkntAJjKx1Hw"
      },
      "execution_count": null,
      "outputs": []
    },
    {
      "cell_type": "markdown",
      "source": [
        "**What is Iris dataset ?**\n",
        "\n",
        "The Iris dataset contains measurements of various attributes of iris flowers in species Setosa, Versicolor, or Virginica, such as sepal length, sepal width, petal length, and petal width. Each row in the dataset corresponds to a iris flower.The target variable Y is the species of the flower, which can be one of three classes: Setosa, Versicolor, or Virginica."
      ],
      "metadata": {
        "id": "wX8MVmCx2tju"
      }
    },
    {
      "cell_type": "code",
      "source": [
        "#Import datasets from sklearn\n",
        "from sklearn import datasets"
      ],
      "metadata": {
        "id": "f7Y5EVLkyJrM"
      },
      "execution_count": null,
      "outputs": []
    },
    {
      "cell_type": "code",
      "source": [
        "#load iris dataset\n",
        "iris = datasets.load_iris()\n",
        "\n"
      ],
      "metadata": {
        "id": "OznAp7JoynxA"
      },
      "execution_count": null,
      "outputs": []
    },
    {
      "cell_type": "markdown",
      "source": [
        "We need to set input features X and the target variable Y (here: species column) inorder to do logistic regression between them. We are trying to predict the species, so set the variable you want to predict here as Y."
      ],
      "metadata": {
        "id": "h4SV9aBC-sGG"
      }
    },
    {
      "cell_type": "code",
      "source": [
        "#Get the sepal length and sepal width\n",
        "X=iris.data[:, :2]\n",
        "#Get the target\n",
        "Y=iris.target\n",
        "#Here 2 covariatesor input features are used, sepal length X0 and sepal width X1.\n",
        "\n",
        "#Select sepal length values as X0\n",
        "X0 = X[:, 0]\n",
        "#Select sepal width values as X1\n",
        "X1 = X[:, 1]"
      ],
      "metadata": {
        "id": "f0Pjq1ZMy_xZ"
      },
      "execution_count": null,
      "outputs": []
    },
    {
      "cell_type": "markdown",
      "source": [
        "**What is decision boundary ?**\n",
        "\n",
        "The decision boundary in classification tasks, represents the dividing line (or surface) between different classes in the feature space.\n",
        "\n",
        "For example: if a new iris flower has a sepal length and width that falls on one side of the decision boundary, it will be classified as one class; if it falls on the other side, it will be classified as another class."
      ],
      "metadata": {
        "id": "LfDltTdn8NH8"
      }
    },
    {
      "cell_type": "code",
      "source": [
        "#meshgrid, used for plotting decision boundaries of x and y by generating 2 arrays, xx and yy.\n",
        "def make_meshgrid(x, y, h=.02):\n",
        "  x_min, x_max = x.min() - 1, x.max() + 1\n",
        "  y_min, y_max = y.min() - 1, y.max() + 1\n",
        "  xx, yy = np.meshgrid(np.arange(x_min, x_max, h),np.arange(y_min, y_max, h))\n",
        "  return xx, yy"
      ],
      "metadata": {
        "id": "xUA468IjzOn9"
      },
      "execution_count": null,
      "outputs": []
    },
    {
      "cell_type": "code",
      "source": [
        "#Function call to get Axes values\n",
        "xx, yy = make_meshgrid(X0, X1)"
      ],
      "metadata": {
        "id": "uY0s4XtGzuEC"
      },
      "execution_count": null,
      "outputs": []
    },
    {
      "cell_type": "markdown",
      "source": [
        "**Visualizes the logistic regression model's decision boundary**\n",
        "\n",
        "First, creates a logistic regression model and trains it on the Iris dataset features (X) and target labels (Y)"
      ],
      "metadata": {
        "id": "INqXuB0v_650"
      }
    },
    {
      "cell_type": "code",
      "source": [
        "model = LogisticRegression(random_state=0, solver='lbfgs',multi_class='multinomial').fit(X, Y)"
      ],
      "metadata": {
        "id": "2f6J10We0hMU"
      },
      "execution_count": null,
      "outputs": []
    },
    {
      "cell_type": "markdown",
      "source": [
        "\n",
        "\n",
        "**How logistic regression model predicts ?**\n",
        "\n",
        "Logistic regression predicts the probability that an instance belongs to a particular class by first calculating  weighted sum of the input features, where each feature is multiplied by a corresponding weight (also known as coefficients).\n",
        "\n",
        "Then the weighted sum is passed through a logistic function (also called the sigmoid function), which transforms the output into a probability between 0 and 1.\n",
        "\n",
        "Finally, the predicted probability is compared to a threshold (usually 0.5). If the predicted probability is greater than the threshold, the instance is predicted to belong to the positive class; otherwise, it is predicted to belong to the negative class.\n",
        "\n",
        "For multinomial logistic regression, the process of predicting probabilities for each class is similar to binary logistic regression, but it extends to multiple classes. Here's how it works:\n",
        "\n",
        "\n",
        "Multinomial logistic regression calculates a score for each class by performing a separate linear regression for each class against all other classes combined. These scores represent the evidence for each class given the input features.\n",
        "\n",
        "After calculating the scores, multinomial logistic regression applies the softmax function to convert the scores into probabilities. The softmax function normalizes the scores so that they sum up to 1, ensuring that the output represents a valid probability distribution over all classes. The class with the highest probability is chosen as the predicted class for the input instance."
      ],
      "metadata": {
        "id": "Tr-v_UgRAelq"
      }
    },
    {
      "cell_type": "markdown",
      "source": [
        "Now pred predicts the labels (species) for each point in the meshgrid."
      ],
      "metadata": {
        "id": "RVfI2LZ0ED8U"
      }
    },
    {
      "cell_type": "code",
      "source": [
        "#predict the values\n",
        "pred = model.predict(np.c_[xx.ravel(), yy.ravel()])"
      ],
      "metadata": {
        "id": "DSgnE3sr0yRg"
      },
      "execution_count": null,
      "outputs": []
    },
    {
      "cell_type": "markdown",
      "source": [
        "Calculating accuracy score"
      ],
      "metadata": {
        "id": "JJ19mI6HArJb"
      }
    },
    {
      "cell_type": "code",
      "source": [
        "#Find predicted labels\n",
        "pred_values = model.predict(np.c_[X0.ravel(), X1.ravel()])\n",
        "#Find accuracy score\n",
        "accuracy_value=accuracy_score(Y, pred_values)\n",
        "#Reshape the data\n",
        "pred = pred.reshape(xx.shape)\n",
        "#Draw the classification boundary\n",
        "plt.contourf(xx, yy, pred, cmap=plt.cm.coolwarm)"
      ],
      "metadata": {
        "colab": {
          "base_uri": "https://localhost:8080/",
          "height": 447
        },
        "id": "B0l8CdZM0-Ju",
        "outputId": "32d0b289-6d2b-4916-fa75-85a92782d752"
      },
      "execution_count": null,
      "outputs": [
        {
          "output_type": "execute_result",
          "data": {
            "text/plain": [
              "<matplotlib.contour.QuadContourSet at 0x7f919b4d4b20>"
            ]
          },
          "metadata": {},
          "execution_count": 40
        },
        {
          "output_type": "display_data",
          "data": {
            "text/plain": [
              "<Figure size 640x480 with 1 Axes>"
            ],
            "image/png": "[encoded data removed]"
          },
          "metadata": {}
        }
      ]
    },
    {
      "cell_type": "markdown",
      "source": [
        "The colored regions in the plot represent the decision boundaries generated by the logistic regression model. The range of the x-axis (sepal length) and y-axis (sepal width) in the plot is determined by the minimum and maximum values of these features in the dataset, with an additional margin of 1 unit added to each side. These boundaries divide the feature space into regions where the model predicts different classes. The colors in these regions indicate the predicted class for each point within that region.\n",
        "\n",
        "Here\n",
        "\n",
        "*   Blue : Setosa\n",
        "*   Light blue : Versicolor\n",
        "*    Red : Virginica\n",
        "\n",
        "\n"
      ],
      "metadata": {
        "id": "HeTXCfyhHnKy"
      }
    },
    {
      "cell_type": "code",
      "source": [
        "\n",
        "# Define class labels\n",
        "class_labels = ['Setosa', 'Versicolor', 'Virginica']\n",
        "\n",
        "# Plot the scatter plot with labels\n",
        "scatter = plt.scatter(X0, X1, c=Y, cmap='prism', s=20, edgecolors='k')\n",
        "\n",
        "# Add legend with class labels\n",
        "plt.legend(handles=scatter.legend_elements()[0], labels=class_labels, loc='best')\n",
        "\n",
        "\n",
        "#Set limit for x axis\n",
        "plt.xlim(xx.min(), xx.max())\n",
        "#Set limit for y axis\n",
        "plt.ylim(yy.min(), yy.max())\n",
        "#Set X label with accuracy score\n",
        "x_label='Sepal length \\n\\n Accuracy = '+str(\"%.2f\" % accuracy_value)\n",
        "#Put label in x axis\n",
        "plt.xlabel(x_label)\n",
        "#Put label in y axis\n",
        "plt.ylabel(\"Sepal width\")\n",
        "#Set the graph title\n",
        "plt.title('Logistic regression')"
      ],
      "metadata": {
        "colab": {
          "base_uri": "https://localhost:8080/",
          "height": 521
        },
        "id": "VcZqwo3F1ATY",
        "outputId": "a9764117-301b-4444-b361-61d94ba9dcb6"
      },
      "execution_count": null,
      "outputs": [
        {
          "output_type": "execute_result",
          "data": {
            "text/plain": [
              "Text(0.5, 1.0, 'Logistic regression')"
            ]
          },
          "metadata": {},
          "execution_count": 41
        },
        {
          "output_type": "display_data",
          "data": {
            "text/plain": [
              "<Figure size 640x480 with 1 Axes>"
            ],
            "image/png": "[encoded data removed]"
          },
          "metadata": {}
        }
      ]
    },
    {
      "cell_type": "markdown",
      "source": [
        "The scatter plot shows the distribution of iris flowers based on their sepal length and width. Each point represents an individual flower, and the color of each point indicates its species (class). For example, points belonging to the same species (e.g., Setosa, Versicolor, Virginica) are shown in the same color."
      ],
      "metadata": {
        "id": "F4WuFfOD2gK5"
      }
    },
    {
      "cell_type": "code",
      "source": [
        "print(\"Feature names:\", iris.feature_names)\n",
        "print(\"Target names:\", iris.target_names)\n",
        "print(\"Number of samples:\", iris.data.shape[0])\n",
        "print(\"Number of features:\", iris.data.shape[1])"
      ],
      "metadata": {
        "colab": {
          "base_uri": "https://localhost:8080/"
        },
        "id": "rzbTi-NCOJBf",
        "outputId": "390a6e5c-0110-4b7f-9622-e6f81f96185a"
      },
      "execution_count": null,
      "outputs": [
        {
          "output_type": "stream",
          "name": "stdout",
          "text": [
            "Feature names: ['sepal length (cm)', 'sepal width (cm)', 'petal length (cm)', 'petal width (cm)']\n",
            "Target names: ['setosa' 'versicolor' 'virginica']\n",
            "Number of samples: 150\n",
            "Number of features: 4\n"
          ]
        }
      ]
    },
    {
      "cell_type": "markdown",
      "source": [
        "Descriptive analysis"
      ],
      "metadata": {
        "id": "y34T-ogyPqmg"
      }
    },
    {
      "cell_type": "code",
      "source": [
        "import pandas as pd\n",
        "# Create a DataFrame from the dataset\n",
        "df = pd.DataFrame(data=iris.data, columns=iris.feature_names)\n",
        "df['target'] = iris.target\n",
        "\n",
        "# Display the first few rows of the DataFrame\n",
        "print(\"First few rows of the dataset:\")\n",
        "print(df.head())\n",
        "\n",
        "# Summary statistics\n",
        "print(\"\\nSummary statistics:\")\n",
        "print(df.describe())\n",
        "\n",
        "# Class distribution\n",
        "print(\"\\nClass distribution:\")\n",
        "print(df['target'].value_counts())\n",
        "\n",
        "# Correlation matrix\n",
        "print(\"\\nCorrelation matrix:\")\n",
        "print(df.corr())"
      ],
      "metadata": {
        "colab": {
          "base_uri": "https://localhost:8080/"
        },
        "id": "jtJ3q0yTPuDq",
        "outputId": "dabaa660-3a33-4962-c48c-1ba027967def"
      },
      "execution_count": null,
      "outputs": [
        {
          "output_type": "stream",
          "name": "stdout",
          "text": [
            "First few rows of the dataset:\n",
            "   sepal length (cm)  sepal width (cm)  petal length (cm)  petal width (cm)  \\\n",
            "0                5.1               3.5                1.4               0.2   \n",
            "1                4.9               3.0                1.4               0.2   \n",
            "2                4.7               3.2                1.3               0.2   \n",
            "3                4.6               3.1                1.5               0.2   \n",
            "4                5.0               3.6                1.4               0.2   \n",
            "\n",
            "   target  \n",
            "0       0  \n",
            "1       0  \n",
            "2       0  \n",
            "3       0  \n",
            "4       0  \n",
            "\n",
            "Summary statistics:\n",
            "       sepal length (cm)  sepal width (cm)  petal length (cm)  \\\n",
            "count         150.000000        150.000000         150.000000   \n",
            "mean            5.843333          3.057333           3.758000   \n",
            "std             0.828066          0.435866           1.765298   \n",
            "min             4.300000          2.000000           1.000000   \n",
            "25%             5.100000          2.800000           1.600000   \n",
            "50%             5.800000          3.000000           4.350000   \n",
            "75%             6.400000          3.300000           5.100000   \n",
            "max             7.900000          4.400000           6.900000   \n",
            "\n",
            "       petal width (cm)      target  \n",
            "count        150.000000  150.000000  \n",
            "mean           1.199333    1.000000  \n",
            "std            0.762238    0.819232  \n",
            "min            0.100000    0.000000  \n",
            "25%            0.300000    0.000000  \n",
            "50%            1.300000    1.000000  \n",
            "75%            1.800000    2.000000  \n",
            "max            2.500000    2.000000  \n",
            "\n",
            "Class distribution:\n",
            "target\n",
            "0    50\n",
            "1    50\n",
            "2    50\n",
            "Name: count, dtype: int64\n",
            "\n",
            "Correlation matrix:\n",
            "                   sepal length (cm)  sepal width (cm)  petal length (cm)  \\\n",
            "sepal length (cm)           1.000000         -0.117570           0.871754   \n",
            "sepal width (cm)           -0.117570          1.000000          -0.428440   \n",
            "petal length (cm)           0.871754         -0.428440           1.000000   \n",
            "petal width (cm)            0.817941         -0.366126           0.962865   \n",
            "target                      0.782561         -0.426658           0.949035   \n",
            "\n",
            "                   petal width (cm)    target  \n",
            "sepal length (cm)          0.817941  0.782561  \n",
            "sepal width (cm)          -0.366126 -0.426658  \n",
            "petal length (cm)          0.962865  0.949035  \n",
            "petal width (cm)           1.000000  0.956547  \n",
            "target                     0.956547  1.000000  \n"
          ]
        }
      ]
    }
  ]
}